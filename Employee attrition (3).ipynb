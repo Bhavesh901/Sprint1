{
 "cells": [
  {
   "cell_type": "markdown",
   "id": "faa1678d",
   "metadata": {},
   "source": [
    "# EDA on Employee Attrition Dataset"
   ]
  },
  {
   "cell_type": "code",
   "execution_count": 3,
   "id": "b296fdcc-06c5-4fb6-bac9-1db189761af0",
   "metadata": {},
   "outputs": [],
   "source": [
    "import pandas as pd\n",
    "import matplotlib.pyplot as plt\n",
    "import warnings\n",
    "warnings.filterwarnings('ignore')\n",
    "%matplotlib inline\n",
    "import seaborn as sns"
   ]
  },
  {
   "cell_type": "code",
   "execution_count": 4,
   "id": "f2612ab1",
   "metadata": {},
   "outputs": [],
   "source": [
    "data1= pd.read_csv(\"C:/Users/JB/Downloads/general_data.csv\")\n",
    "data2= pd.read_csv(\"C:/Users/JB/Downloads/employee_survey_data.csv\")"
   ]
  },
  {
   "cell_type": "code",
   "execution_count": 5,
   "id": "ceb0e406",
   "metadata": {},
   "outputs": [],
   "source": [
    "data= pd.merge(data1, data2, how = 'outer', on= 'EmployeeID')# meger two dataset"
   ]
  },
  {
   "cell_type": "markdown",
   "id": "4d179c71",
   "metadata": {},
   "source": [
    "# Let's have a quick look at the data we are going to analyze."
   ]
  },
  {
   "cell_type": "code",
   "execution_count": 6,
   "id": "28d2e7bb",
   "metadata": {
    "scrolled": true
   },
   "outputs": [
    {
     "name": "stdout",
     "output_type": "stream",
     "text": [
      "<class 'pandas.core.frame.DataFrame'>\n",
      "RangeIndex: 4410 entries, 0 to 4409\n",
      "Data columns (total 27 columns):\n",
      " #   Column                   Non-Null Count  Dtype  \n",
      "---  ------                   --------------  -----  \n",
      " 0   Age                      4410 non-null   int64  \n",
      " 1   Attrition                4410 non-null   object \n",
      " 2   BusinessTravel           4410 non-null   object \n",
      " 3   Department               4410 non-null   object \n",
      " 4   DistanceFromHome         4410 non-null   int64  \n",
      " 5   Education                4410 non-null   int64  \n",
      " 6   EducationField           4410 non-null   object \n",
      " 7   EmployeeCount            4410 non-null   int64  \n",
      " 8   EmployeeID               4410 non-null   int64  \n",
      " 9   Gender                   4410 non-null   object \n",
      " 10  JobLevel                 4410 non-null   int64  \n",
      " 11  JobRole                  4410 non-null   object \n",
      " 12  MaritalStatus            4410 non-null   object \n",
      " 13  MonthlyIncome            4410 non-null   int64  \n",
      " 14  NumCompaniesWorked       4391 non-null   float64\n",
      " 15  Over18                   4410 non-null   object \n",
      " 16  PercentSalaryHike        4410 non-null   int64  \n",
      " 17  StandardHours            4410 non-null   int64  \n",
      " 18  StockOptionLevel         4410 non-null   int64  \n",
      " 19  TotalWorkingYears        4401 non-null   float64\n",
      " 20  TrainingTimesLastYear    4410 non-null   int64  \n",
      " 21  YearsAtCompany           4410 non-null   int64  \n",
      " 22  YearsSinceLastPromotion  4410 non-null   int64  \n",
      " 23  YearsWithCurrManager     4410 non-null   int64  \n",
      " 24  EnvironmentSatisfaction  4385 non-null   float64\n",
      " 25  JobSatisfaction          4390 non-null   float64\n",
      " 26  WorkLifeBalance          4372 non-null   float64\n",
      "dtypes: float64(5), int64(14), object(8)\n",
      "memory usage: 930.4+ KB\n"
     ]
    }
   ],
   "source": [
    "data.info()"
   ]
  },
  {
   "cell_type": "markdown",
   "id": "ce3188ad",
   "metadata": {},
   "source": [
    "### Basic Information about Data\n",
    "\n",
    "1) Dataset contains 4410 rows and 27 columns\n",
    "\n",
    "2) There are some numerical and some categorical columns\n",
    "\n",
    "3) Memory usage is 964 KB\n",
    "\n",
    "### Description of important dataset columns :\n",
    "1.  Age:                Age of the employee\n",
    "2.  Attrition :         Whether the employee left in the previous year or not\n",
    "3.  BusinessTravel :    How frequently the employees travelled for business purposes in the last year\n",
    "4.  Department:         Department in company\n",
    "5.  DistanceFromHome:   Distance from home in kms\n",
    "6.  Education:          Education Level    1)'Below College' 2) College' 3) Bachelor 4) Master 5) Doctor\n",
    "7.  EducationField:     Field of education\n",
    "8.  Employeecount:      Employee count\n",
    "9.  EmployeeID:         Employee number/id\n",
    "10. Gender:             Gender of employee\n",
    "11. JobLevel:           Job Involvement Level  1)Low 2) Medium 3) High 4) Very High\n",
    "12. JobRole:            Name of job role in company\n",
    "13. MaritalStatus:      Marital status of the employee\n",
    "14. MonthlyIncome:      Monthly income in rupees per month\n",
    "15. NumCompaniesWorked: Total number of companies the employee has worked for\n",
    "16. PercentSalaryHike:  Percent salary hike for last year\n",
    "17. StockOptionLevel:   Stock option level of the employee\n",
    "18. YearsAtCompany:     Total number of years spent at the company by the employee\n",
    "19. LastPromotion:       Number of years since last promotion\n"
   ]
  },
  {
   "cell_type": "code",
   "execution_count": 7,
   "id": "88894d33",
   "metadata": {},
   "outputs": [
    {
     "data": {
      "text/html": [
       "<div>\n",
       "<style scoped>\n",
       "    .dataframe tbody tr th:only-of-type {\n",
       "        vertical-align: middle;\n",
       "    }\n",
       "\n",
       "    .dataframe tbody tr th {\n",
       "        vertical-align: top;\n",
       "    }\n",
       "\n",
       "    .dataframe thead th {\n",
       "        text-align: right;\n",
       "    }\n",
       "</style>\n",
       "<table border=\"1\" class=\"dataframe\">\n",
       "  <thead>\n",
       "    <tr style=\"text-align: right;\">\n",
       "      <th></th>\n",
       "      <th>Age</th>\n",
       "      <th>Attrition</th>\n",
       "      <th>BusinessTravel</th>\n",
       "      <th>Department</th>\n",
       "      <th>DistanceFromHome</th>\n",
       "      <th>Education</th>\n",
       "      <th>EducationField</th>\n",
       "      <th>EmployeeCount</th>\n",
       "      <th>EmployeeID</th>\n",
       "      <th>Gender</th>\n",
       "      <th>...</th>\n",
       "      <th>StandardHours</th>\n",
       "      <th>StockOptionLevel</th>\n",
       "      <th>TotalWorkingYears</th>\n",
       "      <th>TrainingTimesLastYear</th>\n",
       "      <th>YearsAtCompany</th>\n",
       "      <th>YearsSinceLastPromotion</th>\n",
       "      <th>YearsWithCurrManager</th>\n",
       "      <th>EnvironmentSatisfaction</th>\n",
       "      <th>JobSatisfaction</th>\n",
       "      <th>WorkLifeBalance</th>\n",
       "    </tr>\n",
       "  </thead>\n",
       "  <tbody>\n",
       "    <tr>\n",
       "      <th>0</th>\n",
       "      <td>51</td>\n",
       "      <td>No</td>\n",
       "      <td>Travel_Rarely</td>\n",
       "      <td>Sales</td>\n",
       "      <td>6</td>\n",
       "      <td>2</td>\n",
       "      <td>Life Sciences</td>\n",
       "      <td>1</td>\n",
       "      <td>1</td>\n",
       "      <td>Female</td>\n",
       "      <td>...</td>\n",
       "      <td>8</td>\n",
       "      <td>0</td>\n",
       "      <td>1.0</td>\n",
       "      <td>6</td>\n",
       "      <td>1</td>\n",
       "      <td>0</td>\n",
       "      <td>0</td>\n",
       "      <td>3.0</td>\n",
       "      <td>4.0</td>\n",
       "      <td>2.0</td>\n",
       "    </tr>\n",
       "    <tr>\n",
       "      <th>1</th>\n",
       "      <td>31</td>\n",
       "      <td>Yes</td>\n",
       "      <td>Travel_Frequently</td>\n",
       "      <td>Research &amp; Development</td>\n",
       "      <td>10</td>\n",
       "      <td>1</td>\n",
       "      <td>Life Sciences</td>\n",
       "      <td>1</td>\n",
       "      <td>2</td>\n",
       "      <td>Female</td>\n",
       "      <td>...</td>\n",
       "      <td>8</td>\n",
       "      <td>1</td>\n",
       "      <td>6.0</td>\n",
       "      <td>3</td>\n",
       "      <td>5</td>\n",
       "      <td>1</td>\n",
       "      <td>4</td>\n",
       "      <td>3.0</td>\n",
       "      <td>2.0</td>\n",
       "      <td>4.0</td>\n",
       "    </tr>\n",
       "    <tr>\n",
       "      <th>2</th>\n",
       "      <td>32</td>\n",
       "      <td>No</td>\n",
       "      <td>Travel_Frequently</td>\n",
       "      <td>Research &amp; Development</td>\n",
       "      <td>17</td>\n",
       "      <td>4</td>\n",
       "      <td>Other</td>\n",
       "      <td>1</td>\n",
       "      <td>3</td>\n",
       "      <td>Male</td>\n",
       "      <td>...</td>\n",
       "      <td>8</td>\n",
       "      <td>3</td>\n",
       "      <td>5.0</td>\n",
       "      <td>2</td>\n",
       "      <td>5</td>\n",
       "      <td>0</td>\n",
       "      <td>3</td>\n",
       "      <td>2.0</td>\n",
       "      <td>2.0</td>\n",
       "      <td>1.0</td>\n",
       "    </tr>\n",
       "    <tr>\n",
       "      <th>3</th>\n",
       "      <td>38</td>\n",
       "      <td>No</td>\n",
       "      <td>Non-Travel</td>\n",
       "      <td>Research &amp; Development</td>\n",
       "      <td>2</td>\n",
       "      <td>5</td>\n",
       "      <td>Life Sciences</td>\n",
       "      <td>1</td>\n",
       "      <td>4</td>\n",
       "      <td>Male</td>\n",
       "      <td>...</td>\n",
       "      <td>8</td>\n",
       "      <td>3</td>\n",
       "      <td>13.0</td>\n",
       "      <td>5</td>\n",
       "      <td>8</td>\n",
       "      <td>7</td>\n",
       "      <td>5</td>\n",
       "      <td>4.0</td>\n",
       "      <td>4.0</td>\n",
       "      <td>3.0</td>\n",
       "    </tr>\n",
       "    <tr>\n",
       "      <th>4</th>\n",
       "      <td>32</td>\n",
       "      <td>No</td>\n",
       "      <td>Travel_Rarely</td>\n",
       "      <td>Research &amp; Development</td>\n",
       "      <td>10</td>\n",
       "      <td>1</td>\n",
       "      <td>Medical</td>\n",
       "      <td>1</td>\n",
       "      <td>5</td>\n",
       "      <td>Male</td>\n",
       "      <td>...</td>\n",
       "      <td>8</td>\n",
       "      <td>2</td>\n",
       "      <td>9.0</td>\n",
       "      <td>2</td>\n",
       "      <td>6</td>\n",
       "      <td>0</td>\n",
       "      <td>4</td>\n",
       "      <td>4.0</td>\n",
       "      <td>1.0</td>\n",
       "      <td>3.0</td>\n",
       "    </tr>\n",
       "  </tbody>\n",
       "</table>\n",
       "<p>5 rows × 27 columns</p>\n",
       "</div>"
      ],
      "text/plain": [
       "   Age Attrition     BusinessTravel              Department  DistanceFromHome  \\\n",
       "0   51        No      Travel_Rarely                   Sales                 6   \n",
       "1   31       Yes  Travel_Frequently  Research & Development                10   \n",
       "2   32        No  Travel_Frequently  Research & Development                17   \n",
       "3   38        No         Non-Travel  Research & Development                 2   \n",
       "4   32        No      Travel_Rarely  Research & Development                10   \n",
       "\n",
       "   Education EducationField  EmployeeCount  EmployeeID  Gender  ...  \\\n",
       "0          2  Life Sciences              1           1  Female  ...   \n",
       "1          1  Life Sciences              1           2  Female  ...   \n",
       "2          4          Other              1           3    Male  ...   \n",
       "3          5  Life Sciences              1           4    Male  ...   \n",
       "4          1        Medical              1           5    Male  ...   \n",
       "\n",
       "   StandardHours StockOptionLevel TotalWorkingYears  TrainingTimesLastYear  \\\n",
       "0              8                0               1.0                      6   \n",
       "1              8                1               6.0                      3   \n",
       "2              8                3               5.0                      2   \n",
       "3              8                3              13.0                      5   \n",
       "4              8                2               9.0                      2   \n",
       "\n",
       "   YearsAtCompany YearsSinceLastPromotion  YearsWithCurrManager  \\\n",
       "0               1                       0                     0   \n",
       "1               5                       1                     4   \n",
       "2               5                       0                     3   \n",
       "3               8                       7                     5   \n",
       "4               6                       0                     4   \n",
       "\n",
       "   EnvironmentSatisfaction  JobSatisfaction  WorkLifeBalance  \n",
       "0                      3.0              4.0              2.0  \n",
       "1                      3.0              2.0              4.0  \n",
       "2                      2.0              2.0              1.0  \n",
       "3                      4.0              4.0              3.0  \n",
       "4                      4.0              1.0              3.0  \n",
       "\n",
       "[5 rows x 27 columns]"
      ]
     },
     "execution_count": 7,
     "metadata": {},
     "output_type": "execute_result"
    }
   ],
   "source": [
    "data.head()"
   ]
  },
  {
   "cell_type": "code",
   "execution_count": 8,
   "id": "717b10e1-fccb-45f5-862d-161bde01aacb",
   "metadata": {},
   "outputs": [
    {
     "data": {
      "text/html": [
       "<div>\n",
       "<style scoped>\n",
       "    .dataframe tbody tr th:only-of-type {\n",
       "        vertical-align: middle;\n",
       "    }\n",
       "\n",
       "    .dataframe tbody tr th {\n",
       "        vertical-align: top;\n",
       "    }\n",
       "\n",
       "    .dataframe thead th {\n",
       "        text-align: right;\n",
       "    }\n",
       "</style>\n",
       "<table border=\"1\" class=\"dataframe\">\n",
       "  <thead>\n",
       "    <tr style=\"text-align: right;\">\n",
       "      <th></th>\n",
       "      <th>Age</th>\n",
       "      <th>Attrition</th>\n",
       "      <th>BusinessTravel</th>\n",
       "      <th>Department</th>\n",
       "      <th>DistanceFromHome</th>\n",
       "      <th>Education</th>\n",
       "      <th>EducationField</th>\n",
       "      <th>EmployeeCount</th>\n",
       "      <th>EmployeeID</th>\n",
       "      <th>Gender</th>\n",
       "      <th>...</th>\n",
       "      <th>StandardHours</th>\n",
       "      <th>StockOptionLevel</th>\n",
       "      <th>TotalWorkingYears</th>\n",
       "      <th>TrainingTimesLastYear</th>\n",
       "      <th>YearsAtCompany</th>\n",
       "      <th>YearsSinceLastPromotion</th>\n",
       "      <th>YearsWithCurrManager</th>\n",
       "      <th>EnvironmentSatisfaction</th>\n",
       "      <th>JobSatisfaction</th>\n",
       "      <th>WorkLifeBalance</th>\n",
       "    </tr>\n",
       "  </thead>\n",
       "  <tbody>\n",
       "    <tr>\n",
       "      <th>4405</th>\n",
       "      <td>42</td>\n",
       "      <td>No</td>\n",
       "      <td>Travel_Rarely</td>\n",
       "      <td>Research &amp; Development</td>\n",
       "      <td>5</td>\n",
       "      <td>4</td>\n",
       "      <td>Medical</td>\n",
       "      <td>1</td>\n",
       "      <td>4406</td>\n",
       "      <td>Female</td>\n",
       "      <td>...</td>\n",
       "      <td>8</td>\n",
       "      <td>1</td>\n",
       "      <td>10.0</td>\n",
       "      <td>5</td>\n",
       "      <td>3</td>\n",
       "      <td>0</td>\n",
       "      <td>2</td>\n",
       "      <td>4.0</td>\n",
       "      <td>1.0</td>\n",
       "      <td>3.0</td>\n",
       "    </tr>\n",
       "    <tr>\n",
       "      <th>4406</th>\n",
       "      <td>29</td>\n",
       "      <td>No</td>\n",
       "      <td>Travel_Rarely</td>\n",
       "      <td>Research &amp; Development</td>\n",
       "      <td>2</td>\n",
       "      <td>4</td>\n",
       "      <td>Medical</td>\n",
       "      <td>1</td>\n",
       "      <td>4407</td>\n",
       "      <td>Male</td>\n",
       "      <td>...</td>\n",
       "      <td>8</td>\n",
       "      <td>0</td>\n",
       "      <td>10.0</td>\n",
       "      <td>2</td>\n",
       "      <td>3</td>\n",
       "      <td>0</td>\n",
       "      <td>2</td>\n",
       "      <td>4.0</td>\n",
       "      <td>4.0</td>\n",
       "      <td>3.0</td>\n",
       "    </tr>\n",
       "    <tr>\n",
       "      <th>4407</th>\n",
       "      <td>25</td>\n",
       "      <td>No</td>\n",
       "      <td>Travel_Rarely</td>\n",
       "      <td>Research &amp; Development</td>\n",
       "      <td>25</td>\n",
       "      <td>2</td>\n",
       "      <td>Life Sciences</td>\n",
       "      <td>1</td>\n",
       "      <td>4408</td>\n",
       "      <td>Male</td>\n",
       "      <td>...</td>\n",
       "      <td>8</td>\n",
       "      <td>0</td>\n",
       "      <td>5.0</td>\n",
       "      <td>4</td>\n",
       "      <td>4</td>\n",
       "      <td>1</td>\n",
       "      <td>2</td>\n",
       "      <td>1.0</td>\n",
       "      <td>3.0</td>\n",
       "      <td>3.0</td>\n",
       "    </tr>\n",
       "    <tr>\n",
       "      <th>4408</th>\n",
       "      <td>42</td>\n",
       "      <td>No</td>\n",
       "      <td>Travel_Rarely</td>\n",
       "      <td>Sales</td>\n",
       "      <td>18</td>\n",
       "      <td>2</td>\n",
       "      <td>Medical</td>\n",
       "      <td>1</td>\n",
       "      <td>4409</td>\n",
       "      <td>Male</td>\n",
       "      <td>...</td>\n",
       "      <td>8</td>\n",
       "      <td>1</td>\n",
       "      <td>10.0</td>\n",
       "      <td>2</td>\n",
       "      <td>9</td>\n",
       "      <td>7</td>\n",
       "      <td>8</td>\n",
       "      <td>4.0</td>\n",
       "      <td>1.0</td>\n",
       "      <td>3.0</td>\n",
       "    </tr>\n",
       "    <tr>\n",
       "      <th>4409</th>\n",
       "      <td>40</td>\n",
       "      <td>No</td>\n",
       "      <td>Travel_Rarely</td>\n",
       "      <td>Research &amp; Development</td>\n",
       "      <td>28</td>\n",
       "      <td>3</td>\n",
       "      <td>Medical</td>\n",
       "      <td>1</td>\n",
       "      <td>4410</td>\n",
       "      <td>Male</td>\n",
       "      <td>...</td>\n",
       "      <td>8</td>\n",
       "      <td>0</td>\n",
       "      <td>NaN</td>\n",
       "      <td>6</td>\n",
       "      <td>21</td>\n",
       "      <td>3</td>\n",
       "      <td>9</td>\n",
       "      <td>1.0</td>\n",
       "      <td>3.0</td>\n",
       "      <td>NaN</td>\n",
       "    </tr>\n",
       "  </tbody>\n",
       "</table>\n",
       "<p>5 rows × 27 columns</p>\n",
       "</div>"
      ],
      "text/plain": [
       "      Age Attrition BusinessTravel              Department  DistanceFromHome  \\\n",
       "4405   42        No  Travel_Rarely  Research & Development                 5   \n",
       "4406   29        No  Travel_Rarely  Research & Development                 2   \n",
       "4407   25        No  Travel_Rarely  Research & Development                25   \n",
       "4408   42        No  Travel_Rarely                   Sales                18   \n",
       "4409   40        No  Travel_Rarely  Research & Development                28   \n",
       "\n",
       "      Education EducationField  EmployeeCount  EmployeeID  Gender  ...  \\\n",
       "4405          4        Medical              1        4406  Female  ...   \n",
       "4406          4        Medical              1        4407    Male  ...   \n",
       "4407          2  Life Sciences              1        4408    Male  ...   \n",
       "4408          2        Medical              1        4409    Male  ...   \n",
       "4409          3        Medical              1        4410    Male  ...   \n",
       "\n",
       "      StandardHours StockOptionLevel TotalWorkingYears  TrainingTimesLastYear  \\\n",
       "4405              8                1              10.0                      5   \n",
       "4406              8                0              10.0                      2   \n",
       "4407              8                0               5.0                      4   \n",
       "4408              8                1              10.0                      2   \n",
       "4409              8                0               NaN                      6   \n",
       "\n",
       "      YearsAtCompany YearsSinceLastPromotion  YearsWithCurrManager  \\\n",
       "4405               3                       0                     2   \n",
       "4406               3                       0                     2   \n",
       "4407               4                       1                     2   \n",
       "4408               9                       7                     8   \n",
       "4409              21                       3                     9   \n",
       "\n",
       "      EnvironmentSatisfaction  JobSatisfaction  WorkLifeBalance  \n",
       "4405                      4.0              1.0              3.0  \n",
       "4406                      4.0              4.0              3.0  \n",
       "4407                      1.0              3.0              3.0  \n",
       "4408                      4.0              1.0              3.0  \n",
       "4409                      1.0              3.0              NaN  \n",
       "\n",
       "[5 rows x 27 columns]"
      ]
     },
     "execution_count": 8,
     "metadata": {},
     "output_type": "execute_result"
    }
   ],
   "source": [
    "data.tail()"
   ]
  },
  {
   "cell_type": "code",
   "execution_count": 9,
   "id": "62fd6e6c",
   "metadata": {},
   "outputs": [
    {
     "name": "stdout",
     "output_type": "stream",
     "text": [
      "=================================Age================================\n",
      "[51 31 32 38 46 28 29 25 45 36 55 47 37 21 35 26 50 53 42 44 49 18 41 39\n",
      " 58 33 43 52 27 30 54 40 23 48 57 34 24 22 56 60 19 20 59]\n",
      "\n",
      "=================================Attrition================================\n",
      "['No' 'Yes']\n",
      "\n",
      "=================================BusinessTravel================================\n",
      "['Travel_Rarely' 'Travel_Frequently' 'Non-Travel']\n",
      "\n",
      "=================================Department================================\n",
      "['Sales' 'Research & Development' 'Human Resources']\n",
      "\n",
      "=================================DistanceFromHome================================\n",
      "[ 6 10 17  2  8 11 18  1  7 28 14  3  4 16  9  5 20 29 15 13 24 19 22 25\n",
      " 21 26 27 12 23]\n",
      "\n",
      "=================================Education================================\n",
      "[2 1 4 5 3]\n",
      "\n",
      "=================================EducationField================================\n",
      "['Life Sciences' 'Other' 'Medical' 'Marketing' 'Technical Degree'\n",
      " 'Human Resources']\n",
      "\n",
      "=================================EmployeeCount================================\n",
      "[1]\n",
      "\n",
      "=================================EmployeeID================================\n",
      "[   1    2    3 ... 4408 4409 4410]\n",
      "\n",
      "=================================Gender================================\n",
      "['Female' 'Male']\n",
      "\n",
      "=================================JobLevel================================\n",
      "[1 4 3 2 5]\n",
      "\n",
      "=================================JobRole================================\n",
      "['Healthcare Representative' 'Research Scientist' 'Sales Executive'\n",
      " 'Human Resources' 'Research Director' 'Laboratory Technician'\n",
      " 'Manufacturing Director' 'Sales Representative' 'Manager']\n",
      "\n",
      "=================================MaritalStatus================================\n",
      "['Married' 'Single' 'Divorced']\n",
      "\n",
      "=================================MonthlyIncome================================\n",
      "[131160  41890 193280 ...  37020  23980  54680]\n",
      "\n",
      "=================================NumCompaniesWorked================================\n",
      "[ 1.  0.  3.  4.  2.  7.  9.  5.  6.  8. nan]\n",
      "\n",
      "=================================Over18================================\n",
      "['Y']\n",
      "\n",
      "=================================PercentSalaryHike================================\n",
      "[11 23 15 12 13 20 22 21 17 14 16 18 19 24 25]\n",
      "\n",
      "=================================StandardHours================================\n",
      "[8]\n",
      "\n",
      "=================================StockOptionLevel================================\n",
      "[0 1 3 2]\n",
      "\n",
      "=================================TotalWorkingYears================================\n",
      "[ 1.  6.  5. 13.  9. 28. 10. 21. 16. 37.  7.  3. 15.  8. nan 12. 17. 19.\n",
      " 22.  2.  4. 23.  0. 11. 24. 25. 20. 14. 26. 18. 30. 36. 31. 33. 32. 34.\n",
      " 40. 29. 35. 27. 38.]\n",
      "\n",
      "=================================TrainingTimesLastYear================================\n",
      "[6 3 2 5 4 0 1]\n",
      "\n",
      "=================================YearsAtCompany================================\n",
      "[ 1  5  8  6  7  0  9 20 15 36 10  3 17  2  4 11 22 18 13 24 21 16 25 29\n",
      " 27 14 31 32 34 26 12 19 33 30 23 37 40]\n",
      "\n",
      "=================================YearsSinceLastPromotion================================\n",
      "[ 0  1  7  4 10  9  6 11  3  5  2  8 13 12 15 14]\n",
      "\n",
      "=================================YearsWithCurrManager================================\n",
      "[ 0  4  3  5  7  8 10 11 13  9  1  2  6 12 17 16 15 14]\n",
      "\n",
      "=================================EnvironmentSatisfaction================================\n",
      "[ 3.  2.  4.  1. nan]\n",
      "\n",
      "=================================JobSatisfaction================================\n",
      "[ 4.  2.  1.  3. nan]\n",
      "\n",
      "=================================WorkLifeBalance================================\n",
      "[ 2.  4.  1.  3. nan]\n",
      "\n"
     ]
    }
   ],
   "source": [
    "# shows unique values from the dataset\n",
    "for el in list(data.columns):\n",
    "    print(f'================================={el}================================')\n",
    "    print (data[el].unique())\n",
    "    print(\"\")"
   ]
  },
  {
   "cell_type": "code",
   "execution_count": 10,
   "id": "32e85511-bac6-40df-a578-94efe5a19647",
   "metadata": {},
   "outputs": [
    {
     "data": {
      "text/plain": [
       "array([1])"
      ]
     },
     "execution_count": 10,
     "metadata": {},
     "output_type": "execute_result"
    }
   ],
   "source": [
    "data['EmployeeCount'].unique()"
   ]
  },
  {
   "cell_type": "code",
   "execution_count": 11,
   "id": "c923794c",
   "metadata": {},
   "outputs": [
    {
     "data": {
      "text/plain": [
       "array([   1,    2,    3, ..., 4408, 4409, 4410])"
      ]
     },
     "execution_count": 11,
     "metadata": {},
     "output_type": "execute_result"
    }
   ],
   "source": [
    "data['EmployeeID'].unique()"
   ]
  },
  {
   "cell_type": "code",
   "execution_count": 12,
   "id": "09cbdc49",
   "metadata": {},
   "outputs": [
    {
     "data": {
      "text/plain": [
       "array([8])"
      ]
     },
     "execution_count": 12,
     "metadata": {},
     "output_type": "execute_result"
    }
   ],
   "source": [
    "data['StandardHours'].unique()"
   ]
  },
  {
   "cell_type": "code",
   "execution_count": 13,
   "id": "b1fb91d9",
   "metadata": {},
   "outputs": [
    {
     "data": {
      "text/plain": [
       "array(['Y'], dtype=object)"
      ]
     },
     "execution_count": 13,
     "metadata": {},
     "output_type": "execute_result"
    }
   ],
   "source": [
    "data['Over18'].unique()"
   ]
  },
  {
   "cell_type": "code",
   "execution_count": 14,
   "id": "99e71a1c",
   "metadata": {},
   "outputs": [],
   "source": [
    "data.drop(['EmployeeCount','Over18', 'StandardHours',  \"StockOptionLevel\", \"TrainingTimesLastYear\", \"YearsWithCurrManager\", \"EmployeeID\"], axis = 1, inplace = True)"
   ]
  },
  {
   "cell_type": "code",
   "execution_count": 15,
   "id": "d8738cd7",
   "metadata": {},
   "outputs": [
    {
     "data": {
      "text/html": [
       "<div>\n",
       "<style scoped>\n",
       "    .dataframe tbody tr th:only-of-type {\n",
       "        vertical-align: middle;\n",
       "    }\n",
       "\n",
       "    .dataframe tbody tr th {\n",
       "        vertical-align: top;\n",
       "    }\n",
       "\n",
       "    .dataframe thead th {\n",
       "        text-align: right;\n",
       "    }\n",
       "</style>\n",
       "<table border=\"1\" class=\"dataframe\">\n",
       "  <thead>\n",
       "    <tr style=\"text-align: right;\">\n",
       "      <th></th>\n",
       "      <th>Age</th>\n",
       "      <th>Attrition</th>\n",
       "      <th>BusinessTravel</th>\n",
       "      <th>Department</th>\n",
       "      <th>DistanceFromHome</th>\n",
       "      <th>Education</th>\n",
       "      <th>EducationField</th>\n",
       "      <th>Gender</th>\n",
       "      <th>JobLevel</th>\n",
       "      <th>JobRole</th>\n",
       "      <th>MaritalStatus</th>\n",
       "      <th>MonthlyIncome</th>\n",
       "      <th>NumCompaniesWorked</th>\n",
       "      <th>PercentSalaryHike</th>\n",
       "      <th>TotalWorkingYears</th>\n",
       "      <th>YearsAtCompany</th>\n",
       "      <th>YearsSinceLastPromotion</th>\n",
       "      <th>EnvironmentSatisfaction</th>\n",
       "      <th>JobSatisfaction</th>\n",
       "      <th>WorkLifeBalance</th>\n",
       "    </tr>\n",
       "  </thead>\n",
       "  <tbody>\n",
       "    <tr>\n",
       "      <th>0</th>\n",
       "      <td>51</td>\n",
       "      <td>No</td>\n",
       "      <td>Travel_Rarely</td>\n",
       "      <td>Sales</td>\n",
       "      <td>6</td>\n",
       "      <td>2</td>\n",
       "      <td>Life Sciences</td>\n",
       "      <td>Female</td>\n",
       "      <td>1</td>\n",
       "      <td>Healthcare Representative</td>\n",
       "      <td>Married</td>\n",
       "      <td>131160</td>\n",
       "      <td>1.0</td>\n",
       "      <td>11</td>\n",
       "      <td>1.0</td>\n",
       "      <td>1</td>\n",
       "      <td>0</td>\n",
       "      <td>3.0</td>\n",
       "      <td>4.0</td>\n",
       "      <td>2.0</td>\n",
       "    </tr>\n",
       "    <tr>\n",
       "      <th>1</th>\n",
       "      <td>31</td>\n",
       "      <td>Yes</td>\n",
       "      <td>Travel_Frequently</td>\n",
       "      <td>Research &amp; Development</td>\n",
       "      <td>10</td>\n",
       "      <td>1</td>\n",
       "      <td>Life Sciences</td>\n",
       "      <td>Female</td>\n",
       "      <td>1</td>\n",
       "      <td>Research Scientist</td>\n",
       "      <td>Single</td>\n",
       "      <td>41890</td>\n",
       "      <td>0.0</td>\n",
       "      <td>23</td>\n",
       "      <td>6.0</td>\n",
       "      <td>5</td>\n",
       "      <td>1</td>\n",
       "      <td>3.0</td>\n",
       "      <td>2.0</td>\n",
       "      <td>4.0</td>\n",
       "    </tr>\n",
       "    <tr>\n",
       "      <th>2</th>\n",
       "      <td>32</td>\n",
       "      <td>No</td>\n",
       "      <td>Travel_Frequently</td>\n",
       "      <td>Research &amp; Development</td>\n",
       "      <td>17</td>\n",
       "      <td>4</td>\n",
       "      <td>Other</td>\n",
       "      <td>Male</td>\n",
       "      <td>4</td>\n",
       "      <td>Sales Executive</td>\n",
       "      <td>Married</td>\n",
       "      <td>193280</td>\n",
       "      <td>1.0</td>\n",
       "      <td>15</td>\n",
       "      <td>5.0</td>\n",
       "      <td>5</td>\n",
       "      <td>0</td>\n",
       "      <td>2.0</td>\n",
       "      <td>2.0</td>\n",
       "      <td>1.0</td>\n",
       "    </tr>\n",
       "    <tr>\n",
       "      <th>3</th>\n",
       "      <td>38</td>\n",
       "      <td>No</td>\n",
       "      <td>Non-Travel</td>\n",
       "      <td>Research &amp; Development</td>\n",
       "      <td>2</td>\n",
       "      <td>5</td>\n",
       "      <td>Life Sciences</td>\n",
       "      <td>Male</td>\n",
       "      <td>3</td>\n",
       "      <td>Human Resources</td>\n",
       "      <td>Married</td>\n",
       "      <td>83210</td>\n",
       "      <td>3.0</td>\n",
       "      <td>11</td>\n",
       "      <td>13.0</td>\n",
       "      <td>8</td>\n",
       "      <td>7</td>\n",
       "      <td>4.0</td>\n",
       "      <td>4.0</td>\n",
       "      <td>3.0</td>\n",
       "    </tr>\n",
       "    <tr>\n",
       "      <th>4</th>\n",
       "      <td>32</td>\n",
       "      <td>No</td>\n",
       "      <td>Travel_Rarely</td>\n",
       "      <td>Research &amp; Development</td>\n",
       "      <td>10</td>\n",
       "      <td>1</td>\n",
       "      <td>Medical</td>\n",
       "      <td>Male</td>\n",
       "      <td>1</td>\n",
       "      <td>Sales Executive</td>\n",
       "      <td>Single</td>\n",
       "      <td>23420</td>\n",
       "      <td>4.0</td>\n",
       "      <td>12</td>\n",
       "      <td>9.0</td>\n",
       "      <td>6</td>\n",
       "      <td>0</td>\n",
       "      <td>4.0</td>\n",
       "      <td>1.0</td>\n",
       "      <td>3.0</td>\n",
       "    </tr>\n",
       "    <tr>\n",
       "      <th>...</th>\n",
       "      <td>...</td>\n",
       "      <td>...</td>\n",
       "      <td>...</td>\n",
       "      <td>...</td>\n",
       "      <td>...</td>\n",
       "      <td>...</td>\n",
       "      <td>...</td>\n",
       "      <td>...</td>\n",
       "      <td>...</td>\n",
       "      <td>...</td>\n",
       "      <td>...</td>\n",
       "      <td>...</td>\n",
       "      <td>...</td>\n",
       "      <td>...</td>\n",
       "      <td>...</td>\n",
       "      <td>...</td>\n",
       "      <td>...</td>\n",
       "      <td>...</td>\n",
       "      <td>...</td>\n",
       "      <td>...</td>\n",
       "    </tr>\n",
       "    <tr>\n",
       "      <th>4405</th>\n",
       "      <td>42</td>\n",
       "      <td>No</td>\n",
       "      <td>Travel_Rarely</td>\n",
       "      <td>Research &amp; Development</td>\n",
       "      <td>5</td>\n",
       "      <td>4</td>\n",
       "      <td>Medical</td>\n",
       "      <td>Female</td>\n",
       "      <td>1</td>\n",
       "      <td>Research Scientist</td>\n",
       "      <td>Single</td>\n",
       "      <td>60290</td>\n",
       "      <td>3.0</td>\n",
       "      <td>17</td>\n",
       "      <td>10.0</td>\n",
       "      <td>3</td>\n",
       "      <td>0</td>\n",
       "      <td>4.0</td>\n",
       "      <td>1.0</td>\n",
       "      <td>3.0</td>\n",
       "    </tr>\n",
       "    <tr>\n",
       "      <th>4406</th>\n",
       "      <td>29</td>\n",
       "      <td>No</td>\n",
       "      <td>Travel_Rarely</td>\n",
       "      <td>Research &amp; Development</td>\n",
       "      <td>2</td>\n",
       "      <td>4</td>\n",
       "      <td>Medical</td>\n",
       "      <td>Male</td>\n",
       "      <td>1</td>\n",
       "      <td>Laboratory Technician</td>\n",
       "      <td>Divorced</td>\n",
       "      <td>26790</td>\n",
       "      <td>2.0</td>\n",
       "      <td>15</td>\n",
       "      <td>10.0</td>\n",
       "      <td>3</td>\n",
       "      <td>0</td>\n",
       "      <td>4.0</td>\n",
       "      <td>4.0</td>\n",
       "      <td>3.0</td>\n",
       "    </tr>\n",
       "    <tr>\n",
       "      <th>4407</th>\n",
       "      <td>25</td>\n",
       "      <td>No</td>\n",
       "      <td>Travel_Rarely</td>\n",
       "      <td>Research &amp; Development</td>\n",
       "      <td>25</td>\n",
       "      <td>2</td>\n",
       "      <td>Life Sciences</td>\n",
       "      <td>Male</td>\n",
       "      <td>2</td>\n",
       "      <td>Sales Executive</td>\n",
       "      <td>Married</td>\n",
       "      <td>37020</td>\n",
       "      <td>0.0</td>\n",
       "      <td>20</td>\n",
       "      <td>5.0</td>\n",
       "      <td>4</td>\n",
       "      <td>1</td>\n",
       "      <td>1.0</td>\n",
       "      <td>3.0</td>\n",
       "      <td>3.0</td>\n",
       "    </tr>\n",
       "    <tr>\n",
       "      <th>4408</th>\n",
       "      <td>42</td>\n",
       "      <td>No</td>\n",
       "      <td>Travel_Rarely</td>\n",
       "      <td>Sales</td>\n",
       "      <td>18</td>\n",
       "      <td>2</td>\n",
       "      <td>Medical</td>\n",
       "      <td>Male</td>\n",
       "      <td>1</td>\n",
       "      <td>Laboratory Technician</td>\n",
       "      <td>Divorced</td>\n",
       "      <td>23980</td>\n",
       "      <td>0.0</td>\n",
       "      <td>14</td>\n",
       "      <td>10.0</td>\n",
       "      <td>9</td>\n",
       "      <td>7</td>\n",
       "      <td>4.0</td>\n",
       "      <td>1.0</td>\n",
       "      <td>3.0</td>\n",
       "    </tr>\n",
       "    <tr>\n",
       "      <th>4409</th>\n",
       "      <td>40</td>\n",
       "      <td>No</td>\n",
       "      <td>Travel_Rarely</td>\n",
       "      <td>Research &amp; Development</td>\n",
       "      <td>28</td>\n",
       "      <td>3</td>\n",
       "      <td>Medical</td>\n",
       "      <td>Male</td>\n",
       "      <td>2</td>\n",
       "      <td>Laboratory Technician</td>\n",
       "      <td>Divorced</td>\n",
       "      <td>54680</td>\n",
       "      <td>0.0</td>\n",
       "      <td>12</td>\n",
       "      <td>NaN</td>\n",
       "      <td>21</td>\n",
       "      <td>3</td>\n",
       "      <td>1.0</td>\n",
       "      <td>3.0</td>\n",
       "      <td>NaN</td>\n",
       "    </tr>\n",
       "  </tbody>\n",
       "</table>\n",
       "<p>4410 rows × 20 columns</p>\n",
       "</div>"
      ],
      "text/plain": [
       "      Age Attrition     BusinessTravel              Department  \\\n",
       "0      51        No      Travel_Rarely                   Sales   \n",
       "1      31       Yes  Travel_Frequently  Research & Development   \n",
       "2      32        No  Travel_Frequently  Research & Development   \n",
       "3      38        No         Non-Travel  Research & Development   \n",
       "4      32        No      Travel_Rarely  Research & Development   \n",
       "...   ...       ...                ...                     ...   \n",
       "4405   42        No      Travel_Rarely  Research & Development   \n",
       "4406   29        No      Travel_Rarely  Research & Development   \n",
       "4407   25        No      Travel_Rarely  Research & Development   \n",
       "4408   42        No      Travel_Rarely                   Sales   \n",
       "4409   40        No      Travel_Rarely  Research & Development   \n",
       "\n",
       "      DistanceFromHome  Education EducationField  Gender  JobLevel  \\\n",
       "0                    6          2  Life Sciences  Female         1   \n",
       "1                   10          1  Life Sciences  Female         1   \n",
       "2                   17          4          Other    Male         4   \n",
       "3                    2          5  Life Sciences    Male         3   \n",
       "4                   10          1        Medical    Male         1   \n",
       "...                ...        ...            ...     ...       ...   \n",
       "4405                 5          4        Medical  Female         1   \n",
       "4406                 2          4        Medical    Male         1   \n",
       "4407                25          2  Life Sciences    Male         2   \n",
       "4408                18          2        Medical    Male         1   \n",
       "4409                28          3        Medical    Male         2   \n",
       "\n",
       "                        JobRole MaritalStatus  MonthlyIncome  \\\n",
       "0     Healthcare Representative       Married         131160   \n",
       "1            Research Scientist        Single          41890   \n",
       "2               Sales Executive       Married         193280   \n",
       "3               Human Resources       Married          83210   \n",
       "4               Sales Executive        Single          23420   \n",
       "...                         ...           ...            ...   \n",
       "4405         Research Scientist        Single          60290   \n",
       "4406      Laboratory Technician      Divorced          26790   \n",
       "4407            Sales Executive       Married          37020   \n",
       "4408      Laboratory Technician      Divorced          23980   \n",
       "4409      Laboratory Technician      Divorced          54680   \n",
       "\n",
       "      NumCompaniesWorked  PercentSalaryHike  TotalWorkingYears  \\\n",
       "0                    1.0                 11                1.0   \n",
       "1                    0.0                 23                6.0   \n",
       "2                    1.0                 15                5.0   \n",
       "3                    3.0                 11               13.0   \n",
       "4                    4.0                 12                9.0   \n",
       "...                  ...                ...                ...   \n",
       "4405                 3.0                 17               10.0   \n",
       "4406                 2.0                 15               10.0   \n",
       "4407                 0.0                 20                5.0   \n",
       "4408                 0.0                 14               10.0   \n",
       "4409                 0.0                 12                NaN   \n",
       "\n",
       "      YearsAtCompany  YearsSinceLastPromotion  EnvironmentSatisfaction  \\\n",
       "0                  1                        0                      3.0   \n",
       "1                  5                        1                      3.0   \n",
       "2                  5                        0                      2.0   \n",
       "3                  8                        7                      4.0   \n",
       "4                  6                        0                      4.0   \n",
       "...              ...                      ...                      ...   \n",
       "4405               3                        0                      4.0   \n",
       "4406               3                        0                      4.0   \n",
       "4407               4                        1                      1.0   \n",
       "4408               9                        7                      4.0   \n",
       "4409              21                        3                      1.0   \n",
       "\n",
       "      JobSatisfaction  WorkLifeBalance  \n",
       "0                 4.0              2.0  \n",
       "1                 2.0              4.0  \n",
       "2                 2.0              1.0  \n",
       "3                 4.0              3.0  \n",
       "4                 1.0              3.0  \n",
       "...               ...              ...  \n",
       "4405              1.0              3.0  \n",
       "4406              4.0              3.0  \n",
       "4407              3.0              3.0  \n",
       "4408              1.0              3.0  \n",
       "4409              3.0              NaN  \n",
       "\n",
       "[4410 rows x 20 columns]"
      ]
     },
     "execution_count": 15,
     "metadata": {},
     "output_type": "execute_result"
    }
   ],
   "source": [
    "data"
   ]
  },
  {
   "cell_type": "markdown",
   "id": "b0560340",
   "metadata": {},
   "source": [
    "## Selecting Categorical columns"
   ]
  },
  {
   "cell_type": "code",
   "execution_count": 14,
   "id": "921a171a",
   "metadata": {},
   "outputs": [
    {
     "data": {
      "text/plain": [
       "Index(['Attrition', 'BusinessTravel', 'Department', 'EducationField', 'Gender',\n",
       "       'JobRole', 'MaritalStatus'],\n",
       "      dtype='object')"
      ]
     },
     "execution_count": 14,
     "metadata": {},
     "output_type": "execute_result"
    }
   ],
   "source": [
    "# this command is used to select catergorical columns from my data set\n",
    "cat_col= data.select_dtypes('O').columns\n",
    "cat_col"
   ]
  },
  {
   "cell_type": "markdown",
   "id": "fbe9de5b",
   "metadata": {},
   "source": [
    "## Selecting Numerical columns"
   ]
  },
  {
   "cell_type": "code",
   "execution_count": 15,
   "id": "94197694",
   "metadata": {},
   "outputs": [
    {
     "data": {
      "text/plain": [
       "Index(['Age', 'DistanceFromHome', 'Education', 'JobLevel', 'MonthlyIncome',\n",
       "       'PercentSalaryHike', 'YearsAtCompany', 'YearsSinceLastPromotion'],\n",
       "      dtype='object')"
      ]
     },
     "execution_count": 15,
     "metadata": {},
     "output_type": "execute_result"
    }
   ],
   "source": [
    "# this command is use to select numerical columns from my data set\n",
    "num_col= data.select_dtypes('int', 'float').columns\n",
    "num_col"
   ]
  },
  {
   "cell_type": "markdown",
   "id": "f0e0dcfb",
   "metadata": {},
   "source": [
    "## Finding Basic Statistical Infromation about Numerical columns"
   ]
  },
  {
   "cell_type": "code",
   "execution_count": 16,
   "id": "f566af28",
   "metadata": {},
   "outputs": [
    {
     "data": {
      "text/html": [
       "<div>\n",
       "<style scoped>\n",
       "    .dataframe tbody tr th:only-of-type {\n",
       "        vertical-align: middle;\n",
       "    }\n",
       "\n",
       "    .dataframe tbody tr th {\n",
       "        vertical-align: top;\n",
       "    }\n",
       "\n",
       "    .dataframe thead th {\n",
       "        text-align: right;\n",
       "    }\n",
       "</style>\n",
       "<table border=\"1\" class=\"dataframe\">\n",
       "  <thead>\n",
       "    <tr style=\"text-align: right;\">\n",
       "      <th></th>\n",
       "      <th>Age</th>\n",
       "      <th>DistanceFromHome</th>\n",
       "      <th>MonthlyIncome</th>\n",
       "      <th>PercentSalaryHike</th>\n",
       "      <th>YearsSinceLastPromotion</th>\n",
       "      <th>EnvironmentSatisfaction</th>\n",
       "      <th>JobSatisfaction</th>\n",
       "      <th>WorkLifeBalance</th>\n",
       "    </tr>\n",
       "  </thead>\n",
       "  <tbody>\n",
       "    <tr>\n",
       "      <th>count</th>\n",
       "      <td>4410.000000</td>\n",
       "      <td>4410.000000</td>\n",
       "      <td>4410.000000</td>\n",
       "      <td>4410.000000</td>\n",
       "      <td>4410.000000</td>\n",
       "      <td>4385.000000</td>\n",
       "      <td>4390.000000</td>\n",
       "      <td>4372.000000</td>\n",
       "    </tr>\n",
       "    <tr>\n",
       "      <th>mean</th>\n",
       "      <td>36.923810</td>\n",
       "      <td>9.192517</td>\n",
       "      <td>65029.312925</td>\n",
       "      <td>15.209524</td>\n",
       "      <td>2.187755</td>\n",
       "      <td>2.723603</td>\n",
       "      <td>2.728246</td>\n",
       "      <td>2.761436</td>\n",
       "    </tr>\n",
       "    <tr>\n",
       "      <th>std</th>\n",
       "      <td>9.133301</td>\n",
       "      <td>8.105026</td>\n",
       "      <td>47068.888559</td>\n",
       "      <td>3.659108</td>\n",
       "      <td>3.221699</td>\n",
       "      <td>1.092756</td>\n",
       "      <td>1.101253</td>\n",
       "      <td>0.706245</td>\n",
       "    </tr>\n",
       "    <tr>\n",
       "      <th>min</th>\n",
       "      <td>18.000000</td>\n",
       "      <td>1.000000</td>\n",
       "      <td>10090.000000</td>\n",
       "      <td>11.000000</td>\n",
       "      <td>0.000000</td>\n",
       "      <td>1.000000</td>\n",
       "      <td>1.000000</td>\n",
       "      <td>1.000000</td>\n",
       "    </tr>\n",
       "    <tr>\n",
       "      <th>25%</th>\n",
       "      <td>30.000000</td>\n",
       "      <td>2.000000</td>\n",
       "      <td>29110.000000</td>\n",
       "      <td>12.000000</td>\n",
       "      <td>0.000000</td>\n",
       "      <td>2.000000</td>\n",
       "      <td>2.000000</td>\n",
       "      <td>2.000000</td>\n",
       "    </tr>\n",
       "    <tr>\n",
       "      <th>50%</th>\n",
       "      <td>36.000000</td>\n",
       "      <td>7.000000</td>\n",
       "      <td>49190.000000</td>\n",
       "      <td>14.000000</td>\n",
       "      <td>1.000000</td>\n",
       "      <td>3.000000</td>\n",
       "      <td>3.000000</td>\n",
       "      <td>3.000000</td>\n",
       "    </tr>\n",
       "    <tr>\n",
       "      <th>75%</th>\n",
       "      <td>43.000000</td>\n",
       "      <td>14.000000</td>\n",
       "      <td>83800.000000</td>\n",
       "      <td>18.000000</td>\n",
       "      <td>3.000000</td>\n",
       "      <td>4.000000</td>\n",
       "      <td>4.000000</td>\n",
       "      <td>3.000000</td>\n",
       "    </tr>\n",
       "    <tr>\n",
       "      <th>max</th>\n",
       "      <td>60.000000</td>\n",
       "      <td>29.000000</td>\n",
       "      <td>199990.000000</td>\n",
       "      <td>25.000000</td>\n",
       "      <td>15.000000</td>\n",
       "      <td>4.000000</td>\n",
       "      <td>4.000000</td>\n",
       "      <td>4.000000</td>\n",
       "    </tr>\n",
       "  </tbody>\n",
       "</table>\n",
       "</div>"
      ],
      "text/plain": [
       "               Age  DistanceFromHome  MonthlyIncome  PercentSalaryHike  \\\n",
       "count  4410.000000       4410.000000    4410.000000        4410.000000   \n",
       "mean     36.923810          9.192517   65029.312925          15.209524   \n",
       "std       9.133301          8.105026   47068.888559           3.659108   \n",
       "min      18.000000          1.000000   10090.000000          11.000000   \n",
       "25%      30.000000          2.000000   29110.000000          12.000000   \n",
       "50%      36.000000          7.000000   49190.000000          14.000000   \n",
       "75%      43.000000         14.000000   83800.000000          18.000000   \n",
       "max      60.000000         29.000000  199990.000000          25.000000   \n",
       "\n",
       "       YearsSinceLastPromotion  EnvironmentSatisfaction  JobSatisfaction  \\\n",
       "count              4410.000000              4385.000000      4390.000000   \n",
       "mean                  2.187755                 2.723603         2.728246   \n",
       "std                   3.221699                 1.092756         1.101253   \n",
       "min                   0.000000                 1.000000         1.000000   \n",
       "25%                   0.000000                 2.000000         2.000000   \n",
       "50%                   1.000000                 3.000000         3.000000   \n",
       "75%                   3.000000                 4.000000         4.000000   \n",
       "max                  15.000000                 4.000000         4.000000   \n",
       "\n",
       "       WorkLifeBalance  \n",
       "count      4372.000000  \n",
       "mean          2.761436  \n",
       "std           0.706245  \n",
       "min           1.000000  \n",
       "25%           2.000000  \n",
       "50%           3.000000  \n",
       "75%           3.000000  \n",
       "max           4.000000  "
      ]
     },
     "execution_count": 16,
     "metadata": {},
     "output_type": "execute_result"
    }
   ],
   "source": [
    "#this command is use this to find basic statistical info about numerical column .describe() is it used calculate satistical\n",
    "data[['Age', 'DistanceFromHome', 'MonthlyIncome', 'PercentSalaryHike', 'YearsSinceLastPromotion', \"EnvironmentSatisfaction\", \"JobSatisfaction\", \"WorkLifeBalance\"]].describe()"
   ]
  },
  {
   "cell_type": "markdown",
   "id": "874f6361",
   "metadata": {},
   "source": [
    "# Data Cleaning and processing"
   ]
  },
  {
   "cell_type": "code",
   "execution_count": 17,
   "id": "904cf4e4",
   "metadata": {},
   "outputs": [
    {
     "data": {
      "text/plain": [
       "np.True_"
      ]
     },
     "execution_count": 17,
     "metadata": {},
     "output_type": "execute_result"
    }
   ],
   "source": [
    "# this command use for check wheater there is duplicate enteries are there or not\n",
    "data.duplicated().any()"
   ]
  },
  {
   "cell_type": "markdown",
   "id": "d8a9a1ff",
   "metadata": {},
   "source": [
    "## Checking for null values in a dataset"
   ]
  },
  {
   "cell_type": "code",
   "execution_count": 18,
   "id": "41f31668-f26e-4951-b7d2-c7fb600cd345",
   "metadata": {},
   "outputs": [
    {
     "data": {
      "text/plain": [
       "Age                        0.000000\n",
       "Attrition                  0.000000\n",
       "BusinessTravel             0.000000\n",
       "Department                 0.000000\n",
       "DistanceFromHome           0.000000\n",
       "Education                  0.000000\n",
       "EducationField             0.000000\n",
       "Gender                     0.000000\n",
       "JobLevel                   0.000000\n",
       "JobRole                    0.000000\n",
       "MaritalStatus              0.000000\n",
       "MonthlyIncome              0.000000\n",
       "NumCompaniesWorked         0.430839\n",
       "PercentSalaryHike          0.000000\n",
       "TotalWorkingYears          0.204082\n",
       "YearsAtCompany             0.000000\n",
       "YearsSinceLastPromotion    0.000000\n",
       "EnvironmentSatisfaction    0.566893\n",
       "JobSatisfaction            0.453515\n",
       "WorkLifeBalance            0.861678\n",
       "dtype: float64"
      ]
     },
     "execution_count": 18,
     "metadata": {},
     "output_type": "execute_result"
    }
   ],
   "source": [
    "#to check the null values percent\n",
    "data.isnull().sum()/len(data)*100"
   ]
  },
  {
   "cell_type": "code",
   "execution_count": 19,
   "id": "cb7d4d41",
   "metadata": {},
   "outputs": [],
   "source": [
    "data.dropna(subset=['NumCompaniesWorked', \"TotalWorkingYears\", 'EnvironmentSatisfaction','JobSatisfaction','WorkLifeBalance'], inplace = True)"
   ]
  },
  {
   "cell_type": "code",
   "execution_count": 20,
   "id": "643885af",
   "metadata": {},
   "outputs": [
    {
     "data": {
      "text/plain": [
       "Age                        0.0\n",
       "Attrition                  0.0\n",
       "BusinessTravel             0.0\n",
       "Department                 0.0\n",
       "DistanceFromHome           0.0\n",
       "Education                  0.0\n",
       "EducationField             0.0\n",
       "Gender                     0.0\n",
       "JobLevel                   0.0\n",
       "JobRole                    0.0\n",
       "MaritalStatus              0.0\n",
       "MonthlyIncome              0.0\n",
       "NumCompaniesWorked         0.0\n",
       "PercentSalaryHike          0.0\n",
       "TotalWorkingYears          0.0\n",
       "YearsAtCompany             0.0\n",
       "YearsSinceLastPromotion    0.0\n",
       "EnvironmentSatisfaction    0.0\n",
       "JobSatisfaction            0.0\n",
       "WorkLifeBalance            0.0\n",
       "dtype: float64"
      ]
     },
     "execution_count": 20,
     "metadata": {},
     "output_type": "execute_result"
    }
   ],
   "source": [
    "data.isnull().sum()/len(data)*100"
   ]
  },
  {
   "cell_type": "markdown",
   "id": "d5f6c6b0",
   "metadata": {},
   "source": [
    "##### Now our dataset is clean. We are ready to use this dataset to conduct our exploratory data analysis"
   ]
  },
  {
   "cell_type": "markdown",
   "id": "3ff43fa0",
   "metadata": {},
   "source": [
    "# 1. Find Out the Attrition rate of the company"
   ]
  },
  {
   "cell_type": "markdown",
   "id": "1ca1023e",
   "metadata": {},
   "source": [
    "##### \"\"\"Attrition rate represents the percentage of employees who leave an organisation over a specific period,\n",
    "##### either voluntarily or involuntarily. It is a key indicator used by HR departments to monitor and improve \n",
    "##### their organisation's workforce planning and overall management.\"\"\""
   ]
  },
  {
   "cell_type": "code",
   "execution_count": 21,
   "id": "071c2c67",
   "metadata": {},
   "outputs": [
    {
     "data": {
      "text/plain": [
       "np.float64(16.162790697674417)"
      ]
     },
     "execution_count": 21,
     "metadata": {},
     "output_type": "execute_result"
    }
   ],
   "source": [
    "#percentage\n",
    "leave_emp= data[data['Attrition']== 'Yes']['Attrition'].count()\n",
    "Total_emp= len(data)\n",
    "Attrition_rate= leave_emp/Total_emp*100\n",
    "Attrition_rate"
   ]
  },
  {
   "cell_type": "markdown",
   "id": "029ecf3f",
   "metadata": {},
   "source": [
    "### Observation:\n",
    "##### Average attrition rate of the company is 16.16%"
   ]
  },
  {
   "cell_type": "markdown",
   "id": "ddbd3916",
   "metadata": {},
   "source": [
    "# 2. Distribution of Employee Attrition in the company"
   ]
  },
  {
   "cell_type": "code",
   "execution_count": 22,
   "id": "7c49fb5d",
   "metadata": {},
   "outputs": [
    {
     "data": {
      "image/png": "[encoded data removed]",
      "text/plain": [
       "<Figure size 800x800 with 1 Axes>"
      ]
     },
     "metadata": {},
     "output_type": "display_data"
    }
   ],
   "source": [
    "plt.figure(figsize= (8,8)) # this is use for size of plot\n",
    "plt.title('Distribution of Employee Attrition') #Title\n",
    "plt.pie(data['Attrition'].value_counts(), autopct= \"%.2f%%\") #to calculate\n",
    "plt.legend(labels= ['No Attrition', 'Attrition']) #lable\n",
    "plt.show() #display"
   ]
  },
  {
   "cell_type": "markdown",
   "id": "5697fd8e",
   "metadata": {},
   "source": [
    "### Observation:\n",
    "\n",
    "##### From the pie chart we can say that out of 4410 employees, 16.16% of employee left job due to some reasons. whereas 83.84% of employees preferred to continue their job at the company"
   ]
  },
  {
   "cell_type": "markdown",
   "id": "24cebbd9",
   "metadata": {},
   "source": [
    "# 3. Find out Department wise Attrition rate And Visualize it"
   ]
  },
  {
   "cell_type": "code",
   "execution_count": 23,
   "id": "0152c2e4",
   "metadata": {},
   "outputs": [
    {
     "data": {
      "text/plain": [
       "Department\n",
       "Human Resources            1.255814\n",
       "Research & Development    10.302326\n",
       "Sales                      4.604651\n",
       "Name: Attrition, dtype: float64"
      ]
     },
     "execution_count": 23,
     "metadata": {},
     "output_type": "execute_result"
    }
   ],
   "source": [
    "leave_data= data[data['Attrition']=='Yes']\n",
    "leave_dept= leave_data.groupby('Department')['Attrition'].count()/len(data)*100\n",
    "label=leave_dept.index\n",
    "leave_dept"
   ]
  },
  {
   "cell_type": "code",
   "execution_count": 24,
   "id": "cd432691",
   "metadata": {},
   "outputs": [
    {
     "data": {
      "image/png": "[encoded data removed]",
      "text/plain": [
       "<Figure size 800x800 with 1 Axes>"
      ]
     },
     "metadata": {},
     "output_type": "display_data"
    }
   ],
   "source": [
    "plt.figure(figsize= (8,8))\n",
    "plt.pie(leave_dept, autopct= \"%.2f%%\", explode= (0.2,0,0), labels= label)\n",
    "plt.show()"
   ]
  },
  {
   "cell_type": "markdown",
   "id": "7f60f4aa",
   "metadata": {},
   "source": [
    "### Observation:\n",
    "##### From the above pie chart we can say that, Most of  employees who leaves compnay are from Research and Development Department\n",
    "#### which is 63.74% of total Attrition."
   ]
  },
  {
   "cell_type": "markdown",
   "id": "bb451c8c-f5bf-40bd-8388-71d48d4fff7d",
   "metadata": {},
   "source": [
    "# 4. Gender vs Attrition #"
   ]
  },
  {
   "cell_type": "code",
   "execution_count": 25,
   "id": "dfadeda4",
   "metadata": {},
   "outputs": [
    {
     "data": {
      "image/png": "[encoded data removed]",
      "text/plain": [
       "<Figure size 800x800 with 1 Axes>"
      ]
     },
     "metadata": {},
     "output_type": "display_data"
    }
   ],
   "source": [
    "plt.figure(figsize= (8,8))\n",
    "plt.title(\"Gender Wise Attrition\")\n",
    "sns.countplot(x= 'Attrition', hue= 'Gender',data= data)\n",
    "plt.show()"
   ]
  },
  {
   "cell_type": "markdown",
   "id": "780c5e38",
   "metadata": {},
   "source": [
    "### Observation:\n",
    "##### Attrition Rate is high among Male employees than Female employees"
   ]
  },
  {
   "cell_type": "markdown",
   "id": "6d304fec",
   "metadata": {},
   "source": [
    "# 5. Is there any relation between age and number of company changed by employee #"
   ]
  },
  {
   "cell_type": "code",
   "execution_count": 26,
   "id": "63514eb2",
   "metadata": {},
   "outputs": [
    {
     "data": {
      "text/plain": [
       "<Axes: xlabel='NumCompaniesWorked', ylabel='Age'>"
      ]
     },
     "execution_count": 26,
     "metadata": {},
     "output_type": "execute_result"
    },
    {
     "data": {
      "image/png": "[encoded data removed]",
      "text/plain": [
       "<Figure size 640x480 with 1 Axes>"
      ]
     },
     "metadata": {},
     "output_type": "display_data"
    }
   ],
   "source": [
    "sns.scatterplot(y= 'Age', x='NumCompaniesWorked', data= data)"
   ]
  },
  {
   "cell_type": "markdown",
   "id": "9d9ee414",
   "metadata": {},
   "source": [
    "### Observation:\n",
    "##### There is no relation between age and number of companies worked"
   ]
  },
  {
   "cell_type": "markdown",
   "id": "ff59eeb3",
   "metadata": {},
   "source": [
    "# 6. Find count of employees who have left company and has low job satisfaction(less than and equal to 2)"
   ]
  },
  {
   "cell_type": "code",
   "execution_count": 27,
   "id": "70a143db",
   "metadata": {},
   "outputs": [
    {
     "data": {
      "text/plain": [
       "np.int64(329)"
      ]
     },
     "execution_count": 27,
     "metadata": {},
     "output_type": "execute_result"
    }
   ],
   "source": [
    "data[(data['Attrition']=='Yes')&(data['JobSatisfaction']<=2)]['Attrition'].count()"
   ]
  },
  {
   "cell_type": "markdown",
   "id": "c14c2047",
   "metadata": {},
   "source": [
    "# 7. Impact of Bussiness Travel on Attrition"
   ]
  },
  {
   "cell_type": "code",
   "execution_count": 28,
   "id": "7c247972",
   "metadata": {},
   "outputs": [
    {
     "data": {
      "text/html": [
       "<div>\n",
       "<style scoped>\n",
       "    .dataframe tbody tr th:only-of-type {\n",
       "        vertical-align: middle;\n",
       "    }\n",
       "\n",
       "    .dataframe tbody tr th {\n",
       "        vertical-align: top;\n",
       "    }\n",
       "\n",
       "    .dataframe thead th {\n",
       "        text-align: right;\n",
       "    }\n",
       "</style>\n",
       "<table border=\"1\" class=\"dataframe\">\n",
       "  <thead>\n",
       "    <tr style=\"text-align: right;\">\n",
       "      <th>Attrition</th>\n",
       "      <th>No</th>\n",
       "      <th>Yes</th>\n",
       "    </tr>\n",
       "    <tr>\n",
       "      <th>BusinessTravel</th>\n",
       "      <th></th>\n",
       "      <th></th>\n",
       "    </tr>\n",
       "  </thead>\n",
       "  <tbody>\n",
       "    <tr>\n",
       "      <th>Non-Travel</th>\n",
       "      <td>404</td>\n",
       "      <td>36</td>\n",
       "    </tr>\n",
       "    <tr>\n",
       "      <th>Travel_Frequently</th>\n",
       "      <td>610</td>\n",
       "      <td>199</td>\n",
       "    </tr>\n",
       "    <tr>\n",
       "      <th>Travel_Rarely</th>\n",
       "      <td>2591</td>\n",
       "      <td>460</td>\n",
       "    </tr>\n",
       "  </tbody>\n",
       "</table>\n",
       "</div>"
      ],
      "text/plain": [
       "Attrition            No  Yes\n",
       "BusinessTravel              \n",
       "Non-Travel          404   36\n",
       "Travel_Frequently   610  199\n",
       "Travel_Rarely      2591  460"
      ]
     },
     "execution_count": 28,
     "metadata": {},
     "output_type": "execute_result"
    }
   ],
   "source": [
    "#calculated the value count of column bussness travel which is goup by attrition all that is shown below in chart\n",
    "p= data.groupby('BusinessTravel')['Attrition'].value_counts(normalize= False).unstack()\n",
    "p"
   ]
  },
  {
   "cell_type": "code",
   "execution_count": 29,
   "id": "38beaf6e",
   "metadata": {},
   "outputs": [
    {
     "data": {
      "text/plain": [
       "<Figure size 800x500 with 0 Axes>"
      ]
     },
     "metadata": {},
     "output_type": "display_data"
    },
    {
     "data": {
      "image/png": "[encoded data removed]",
      "text/plain": [
       "<Figure size 640x480 with 1 Axes>"
      ]
     },
     "metadata": {},
     "output_type": "display_data"
    }
   ],
   "source": [
    "plt.figure(figsize= (8,5))\n",
    "p.plot(kind= 'bar', stacked = 'False', alpha= 1)\n",
    "plt.show()"
   ]
  },
  {
   "cell_type": "markdown",
   "id": "248d8c35",
   "metadata": {},
   "source": [
    "##### Observation\n",
    "#####  From the above chart we can say that employee who travel rarely have higher attriation, followed by employee who travel frequently"
   ]
  },
  {
   "cell_type": "markdown",
   "id": "0cc5c234",
   "metadata": {},
   "source": [
    "# 8. EducationField Vs Attrition"
   ]
  },
  {
   "cell_type": "code",
   "execution_count": 30,
   "id": "6503321a",
   "metadata": {},
   "outputs": [
    {
     "data": {
      "text/plain": [
       "EducationField\n",
       "Life Sciences       1766\n",
       "Medical             1364\n",
       "Marketing            469\n",
       "Technical Degree     384\n",
       "Other                237\n",
       "Human Resources       80\n",
       "Name: count, dtype: int64"
      ]
     },
     "execution_count": 30,
     "metadata": {},
     "output_type": "execute_result"
    }
   ],
   "source": [
    "data[\"EducationField\"].value_counts()"
   ]
  },
  {
   "cell_type": "code",
   "execution_count": 31,
   "id": "45f468f1",
   "metadata": {
    "scrolled": true
   },
   "outputs": [
    {
     "data": {
      "image/png": "[encoded data removed]",
      "text/plain": [
       "<Figure size 1000x700 with 1 Axes>"
      ]
     },
     "metadata": {},
     "output_type": "display_data"
    }
   ],
   "source": [
    "plt.figure(figsize=(10,7))\n",
    "sns.countplot(x=\"EducationField\",hue =\"Attrition\",data = data )\n",
    "plt.show()"
   ]
  },
  {
   "cell_type": "markdown",
   "id": "9510079d",
   "metadata": {},
   "source": [
    "##### As in above plot we can see that employee who studied Life Science has higher rate of attrition followed by employee who studied medical also left  company"
   ]
  },
  {
   "cell_type": "markdown",
   "id": "b25e9799",
   "metadata": {},
   "source": [
    "# 9. Marital Status  V/s Attrition"
   ]
  },
  {
   "cell_type": "code",
   "execution_count": 32,
   "id": "1de48297",
   "metadata": {},
   "outputs": [
    {
     "data": {
      "image/png": "[encoded data removed]",
      "text/plain": [
       "<Figure size 1000x700 with 1 Axes>"
      ]
     },
     "metadata": {},
     "output_type": "display_data"
    }
   ],
   "source": [
    "plt.figure(figsize=(10,7))\n",
    "sns.countplot(x=\"MaritalStatus\", hue=\"Attrition\", data=data)\n",
    "plt.show()"
   ]
  },
  {
   "cell_type": "markdown",
   "id": "b4edfe46",
   "metadata": {},
   "source": [
    "### Observation\n",
    "##### Attrition rate is high among the employees whoes marital status is Single than people who are married or Divorced."
   ]
  },
  {
   "cell_type": "markdown",
   "id": "a9477cc6",
   "metadata": {},
   "source": [
    "# 10. How does work-life balance affect attrition? Are employees with poor work-life balance more likely to leave the company?"
   ]
  },
  {
   "cell_type": "code",
   "execution_count": 33,
   "id": "59ae850f",
   "metadata": {
    "scrolled": true
   },
   "outputs": [
    {
     "data": {
      "text/plain": [
       "<Axes: ylabel='count'>"
      ]
     },
     "execution_count": 33,
     "metadata": {},
     "output_type": "execute_result"
    },
    {
     "data": {
      "image/png": "[encoded data removed]",
      "text/plain": [
       "<Figure size 640x480 with 1 Axes>"
      ]
     },
     "metadata": {},
     "output_type": "display_data"
    }
   ],
   "source": [
    "data[\"WorkLifeBalance\"].value_counts().plot(kind= \"pie\", autopct= \"%.2f%%\")"
   ]
  },
  {
   "cell_type": "markdown",
   "id": "10671d26",
   "metadata": {},
   "source": [
    "##### The above  pie chart shows percentage of employee who rated work life balance as 1,2,3 ,4.\n",
    "##### Most of the people rated worked life balance as 3 (around 60%) it means they are satisfied with work life balance.\n",
    "#### only 5.59 % of employee rated 1 which is low satification. "
   ]
  },
  {
   "cell_type": "code",
   "execution_count": 34,
   "id": "a0962456",
   "metadata": {},
   "outputs": [
    {
     "data": {
      "text/plain": [
       "<Axes: xlabel='WorkLifeBalance', ylabel='count'>"
      ]
     },
     "execution_count": 34,
     "metadata": {},
     "output_type": "execute_result"
    },
    {
     "data": {
      "image/png": "[encoded data removed]",
      "text/plain": [
       "<Figure size 640x480 with 1 Axes>"
      ]
     },
     "metadata": {},
     "output_type": "display_data"
    }
   ],
   "source": [
    "sns.countplot(x= \"WorkLifeBalance\", hue= \"Attrition\", data= data )"
   ]
  },
  {
   "cell_type": "markdown",
   "id": "e37f5b8f",
   "metadata": {},
   "source": [
    "### Observation:\n",
    "##### Above chart given information about work life balance rating given by employee who are currently working in the company\n",
    "##### and who left the company.\n",
    "##### By analyzing chart, we can say that most of employees rated 3 (high satisfcation) or 2 (medium satisafaction). \n",
    "##### But employee who has rated 3 (high satisfaction) also left the company followed by who have rated 2 (medium).\n"
   ]
  },
  {
   "cell_type": "markdown",
   "id": "22560230",
   "metadata": {},
   "source": [
    "# 11. Does the satisfaction level of employees with their  environment affect attrition? Are employees with lower  environment satisfaction more likely to leave the company?"
   ]
  },
  {
   "cell_type": "code",
   "execution_count": 35,
   "id": "e40cb368",
   "metadata": {},
   "outputs": [
    {
     "data": {
      "text/plain": [
       "<Axes: ylabel='count'>"
      ]
     },
     "execution_count": 35,
     "metadata": {},
     "output_type": "execute_result"
    },
    {
     "data": {
      "image/png": "[encoded data removed]",
      "text/plain": [
       "<Figure size 640x480 with 1 Axes>"
      ]
     },
     "metadata": {},
     "output_type": "display_data"
    }
   ],
   "source": [
    "data[\"EnvironmentSatisfaction\"].value_counts().plot(kind= \"pie\", autopct=\"%.2f%%\")"
   ]
  },
  {
   "cell_type": "markdown",
   "id": "d4c4419d",
   "metadata": {},
   "source": [
    "### Observation:\n",
    "##### Above chart shows rating given by all the employee for Environment satisfaction. From the Above pie chart , we can say that \n",
    "##### most of the employees (around 60%) rated 3  or 4 for Environment satifaction, which means they are satisfied with companies \n",
    "##### environment."
   ]
  },
  {
   "cell_type": "markdown",
   "id": "496d7d35",
   "metadata": {},
   "source": [
    "### Now let's see the satisfaction level of employees who have left the company and who are in the company."
   ]
  },
  {
   "cell_type": "code",
   "execution_count": 36,
   "id": "701e5bc8",
   "metadata": {},
   "outputs": [
    {
     "data": {
      "text/plain": [
       "<Axes: xlabel='EnvironmentSatisfaction', ylabel='count'>"
      ]
     },
     "execution_count": 36,
     "metadata": {},
     "output_type": "execute_result"
    },
    {
     "data": {
      "image/png": "[encoded data removed]",
      "text/plain": [
       "<Figure size 640x480 with 1 Axes>"
      ]
     },
     "metadata": {},
     "output_type": "display_data"
    }
   ],
   "source": [
    "sns.countplot(x= \"EnvironmentSatisfaction\", hue= \"Attrition\", data= data )"
   ]
  },
  {
   "cell_type": "markdown",
   "id": "87d0f613",
   "metadata": {},
   "source": [
    "### Observation:\n",
    "##### By seeing above chart we can say that :\n",
    "##### 1) Where attrition is No:-  means employee who are working in the company, are satisfied with the environment of the company, as they \n",
    "##### rated 3 and 4 \n",
    "##### 2) Where attrition is Yes :- Means who employees left the company were not satisfied with the companies environment as they rated 1 (which is low satisfaction level)"
   ]
  },
  {
   "cell_type": "markdown",
   "id": "1384b836",
   "metadata": {},
   "source": [
    "# 12. Does the satisfaction level of employees with their job  affect attrition?"
   ]
  },
  {
   "cell_type": "code",
   "execution_count": 37,
   "id": "5d3b5829",
   "metadata": {},
   "outputs": [
    {
     "data": {
      "text/plain": [
       "<Axes: ylabel='count'>"
      ]
     },
     "execution_count": 37,
     "metadata": {},
     "output_type": "execute_result"
    },
    {
     "data": {
      "image/png": "[encoded data removed]",
      "text/plain": [
       "<Figure size 640x480 with 1 Axes>"
      ]
     },
     "metadata": {},
     "output_type": "display_data"
    }
   ],
   "source": [
    "data[\"JobSatisfaction\"].value_counts().plot(kind= \"pie\", autopct=\"%.2f%%\")"
   ]
  },
  {
   "cell_type": "markdown",
   "id": "1879ac3b",
   "metadata": {},
   "source": [
    "### Observation:\n",
    "By seeing above chart we can say that, around 60% of employees are statisfied with their job. "
   ]
  }
 ],
 "metadata": {
  "kernelspec": {
   "display_name": "Python 3 (ipykernel)",
   "language": "python",
   "name": "python3"
  },
  "language_info": {
   "codemirror_mode": {
    "name": "ipython",
    "version": 3
   },
   "file_extension": ".py",
   "mimetype": "text/x-python",
   "name": "python",
   "nbconvert_exporter": "python",
   "pygments_lexer": "ipython3",
   "version": "3.12.4"
  }
 },
 "nbformat": 4,
 "nbformat_minor": 5
}
